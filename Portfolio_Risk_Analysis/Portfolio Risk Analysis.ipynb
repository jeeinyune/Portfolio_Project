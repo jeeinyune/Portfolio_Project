{
 "cells": [
  {
   "cell_type": "markdown",
   "metadata": {},
   "source": [
    "# Portfolio Risk Analysis\n",
    "# Portfolio Management"
   ]
  },
  {
   "cell_type": "code",
   "execution_count": 9,
   "metadata": {},
   "outputs": [
    {
     "data": {
      "text/plain": [
       "sys.version_info(major=3, minor=7, micro=4, releaselevel='final', serial=0)"
      ]
     },
     "execution_count": 9,
     "metadata": {},
     "output_type": "execute_result"
    }
   ],
   "source": [
    "import sys\n",
    "sys.version\n",
    "sys.version_info"
   ]
  },
  {
   "cell_type": "markdown",
   "metadata": {},
   "source": [
    "\n",
    "# Useful Python code\n",
    "\n",
    "https://pandas.pydata.org/pandas-docs/stable/10min.html\n",
    "https://pandas.pydata.org/pandas-docs/stable/visualization.html\n"
   ]
  },
  {
   "cell_type": "markdown",
   "metadata": {},
   "source": [
    "#### Import some Packages and Modules"
   ]
  },
  {
   "cell_type": "code",
   "execution_count": 10,
   "metadata": {},
   "outputs": [],
   "source": [
    "%matplotlib inline\n",
    "\n",
    "import matplotlib\n",
    "import numpy as np\n",
    "import matplotlib.pyplot as plt\n",
    "import pandas as pd\n",
    "import statsmodels.api as sm\n"
   ]
  },
  {
   "cell_type": "markdown",
   "metadata": {},
   "source": [
    "#  File Contents\n",
    "Returns to the following asset classes are contained in the file\n",
    " * \"MSCI WORLD\"\n",
    " * \"MSCI AC WORLD\"    \n",
    " * \"MSCI EUROPE\"\n",
    " * \"MSCI EM\"\n",
    " * \"MSCI EAFE\"        \n",
    " * \"MSCI PACIFIC\"\n",
    " * \"MSCI USA\"\n",
    " * \"Treasury.Bond.10Y\"\n",
    " * \"Treasury.Bill.90D\"\n",
    "\n",
    "\n",
    " <span style=\"color:blue\">Our set of risky assets for the analysis is  MSCI EUROPE, MSCI USA , MSCI PACIFIC, Treasury.Bond.10Y </span>\n"
   ]
  },
  {
   "cell_type": "code",
   "execution_count": 11,
   "metadata": {},
   "outputs": [
    {
     "name": "stdout",
     "output_type": "stream",
     "text": [
      "/Users/jeeinyune/Desktop/ReturnsPortfolios.csv\n"
     ]
    }
   ],
   "source": [
    "#\n",
    "# read in the data\n",
    "\n",
    "inpath  = \"/Users/jeeinyune/Desktop/\"\n",
    "outpath = \"/Users/jeeinyune/Desktop/\"\n",
    "\n",
    "infile  = \"ReturnsPortfolios.csv\"\n",
    "\n",
    "print(inpath+infile)\n",
    "indata = pd.read_csv( inpath + infile)\n"
   ]
  },
  {
   "cell_type": "code",
   "execution_count": 12,
   "metadata": {},
   "outputs": [
    {
     "data": {
      "text/html": [
       "<div>\n",
       "<style scoped>\n",
       "    .dataframe tbody tr th:only-of-type {\n",
       "        vertical-align: middle;\n",
       "    }\n",
       "\n",
       "    .dataframe tbody tr th {\n",
       "        vertical-align: top;\n",
       "    }\n",
       "\n",
       "    .dataframe thead th {\n",
       "        text-align: right;\n",
       "    }\n",
       "</style>\n",
       "<table border=\"1\" class=\"dataframe\">\n",
       "  <thead>\n",
       "    <tr style=\"text-align: right;\">\n",
       "      <th></th>\n",
       "      <th>Date</th>\n",
       "      <th>MSCI WORLD</th>\n",
       "      <th>MSCI AC WORLD</th>\n",
       "      <th>MSCI EUROPE</th>\n",
       "      <th>MSCI EM</th>\n",
       "      <th>MSCI EAFE</th>\n",
       "      <th>MSCI PACIFIC</th>\n",
       "      <th>MSCI USA</th>\n",
       "      <th>Treasury.Bond.10Y</th>\n",
       "      <th>Treasury.Bill.90D</th>\n",
       "      <th>Treasury.Bill.30D</th>\n",
       "    </tr>\n",
       "  </thead>\n",
       "  <tbody>\n",
       "    <tr>\n",
       "      <td>0</td>\n",
       "      <td>1/29/1988</td>\n",
       "      <td>0.024592</td>\n",
       "      <td>0.025330</td>\n",
       "      <td>-0.040626</td>\n",
       "      <td>0.098380</td>\n",
       "      <td>0.018081</td>\n",
       "      <td>0.049747</td>\n",
       "      <td>0.042834</td>\n",
       "      <td>0.044235</td>\n",
       "      <td>0.005001</td>\n",
       "      <td>0.002762</td>\n",
       "    </tr>\n",
       "    <tr>\n",
       "      <td>1</td>\n",
       "      <td>2/29/1988</td>\n",
       "      <td>0.058224</td>\n",
       "      <td>0.058079</td>\n",
       "      <td>0.059266</td>\n",
       "      <td>0.003396</td>\n",
       "      <td>0.066914</td>\n",
       "      <td>0.070676</td>\n",
       "      <td>0.041869</td>\n",
       "      <td>0.013917</td>\n",
       "      <td>0.005349</td>\n",
       "      <td>0.004564</td>\n",
       "    </tr>\n",
       "    <tr>\n",
       "      <td>2</td>\n",
       "      <td>3/31/1988</td>\n",
       "      <td>0.030382</td>\n",
       "      <td>0.031100</td>\n",
       "      <td>0.027948</td>\n",
       "      <td>0.107385</td>\n",
       "      <td>0.061675</td>\n",
       "      <td>0.078041</td>\n",
       "      <td>-0.033456</td>\n",
       "      <td>-0.019930</td>\n",
       "      <td>0.004803</td>\n",
       "      <td>0.004402</td>\n",
       "    </tr>\n",
       "    <tr>\n",
       "      <td>3</td>\n",
       "      <td>4/29/1988</td>\n",
       "      <td>0.012798</td>\n",
       "      <td>0.012980</td>\n",
       "      <td>0.019014</td>\n",
       "      <td>0.053382</td>\n",
       "      <td>0.014717</td>\n",
       "      <td>0.012751</td>\n",
       "      <td>0.009184</td>\n",
       "      <td>-0.012511</td>\n",
       "      <td>0.004554</td>\n",
       "      <td>0.004577</td>\n",
       "    </tr>\n",
       "    <tr>\n",
       "      <td>4</td>\n",
       "      <td>5/31/1988</td>\n",
       "      <td>-0.019802</td>\n",
       "      <td>-0.019521</td>\n",
       "      <td>-0.018278</td>\n",
       "      <td>0.029962</td>\n",
       "      <td>-0.031833</td>\n",
       "      <td>-0.038039</td>\n",
       "      <td>0.008603</td>\n",
       "      <td>-0.015848</td>\n",
       "      <td>0.005027</td>\n",
       "      <td>0.005051</td>\n",
       "    </tr>\n",
       "  </tbody>\n",
       "</table>\n",
       "</div>"
      ],
      "text/plain": [
       "        Date  MSCI WORLD  MSCI AC WORLD  MSCI EUROPE   MSCI EM  MSCI EAFE  \\\n",
       "0  1/29/1988    0.024592       0.025330    -0.040626  0.098380   0.018081   \n",
       "1  2/29/1988    0.058224       0.058079     0.059266  0.003396   0.066914   \n",
       "2  3/31/1988    0.030382       0.031100     0.027948  0.107385   0.061675   \n",
       "3  4/29/1988    0.012798       0.012980     0.019014  0.053382   0.014717   \n",
       "4  5/31/1988   -0.019802      -0.019521    -0.018278  0.029962  -0.031833   \n",
       "\n",
       "   MSCI PACIFIC  MSCI USA  Treasury.Bond.10Y  Treasury.Bill.90D  \\\n",
       "0      0.049747  0.042834           0.044235           0.005001   \n",
       "1      0.070676  0.041869           0.013917           0.005349   \n",
       "2      0.078041 -0.033456          -0.019930           0.004803   \n",
       "3      0.012751  0.009184          -0.012511           0.004554   \n",
       "4     -0.038039  0.008603          -0.015848           0.005027   \n",
       "\n",
       "   Treasury.Bill.30D  \n",
       "0           0.002762  \n",
       "1           0.004564  \n",
       "2           0.004402  \n",
       "3           0.004577  \n",
       "4           0.005051  "
      ]
     },
     "execution_count": 12,
     "metadata": {},
     "output_type": "execute_result"
    }
   ],
   "source": [
    "indata.head(5)"
   ]
  },
  {
   "cell_type": "code",
   "execution_count": 13,
   "metadata": {},
   "outputs": [],
   "source": [
    "RiskyAsset     = [\"MSCI EUROPE\",\"MSCI USA\",\"MSCI PACIFIC\",\"Treasury.Bond.10Y\"]\n",
    "RiskFreeAsset  = \"Treasury.Bill.90D\""
   ]
  },
  {
   "cell_type": "code",
   "execution_count": 14,
   "metadata": {},
   "outputs": [
    {
     "data": {
      "text/html": [
       "<div>\n",
       "<style scoped>\n",
       "    .dataframe tbody tr th:only-of-type {\n",
       "        vertical-align: middle;\n",
       "    }\n",
       "\n",
       "    .dataframe tbody tr th {\n",
       "        vertical-align: top;\n",
       "    }\n",
       "\n",
       "    .dataframe thead th {\n",
       "        text-align: right;\n",
       "    }\n",
       "</style>\n",
       "<table border=\"1\" class=\"dataframe\">\n",
       "  <thead>\n",
       "    <tr style=\"text-align: right;\">\n",
       "      <th></th>\n",
       "      <th>MSCI EUROPE</th>\n",
       "      <th>MSCI USA</th>\n",
       "      <th>MSCI PACIFIC</th>\n",
       "      <th>Treasury.Bond.10Y</th>\n",
       "    </tr>\n",
       "  </thead>\n",
       "  <tbody>\n",
       "    <tr>\n",
       "      <td>1</td>\n",
       "      <td>0.059266</td>\n",
       "      <td>0.041869</td>\n",
       "      <td>0.070676</td>\n",
       "      <td>0.013917</td>\n",
       "    </tr>\n",
       "    <tr>\n",
       "      <td>2</td>\n",
       "      <td>0.027948</td>\n",
       "      <td>-0.033456</td>\n",
       "      <td>0.078041</td>\n",
       "      <td>-0.019930</td>\n",
       "    </tr>\n",
       "    <tr>\n",
       "      <td>3</td>\n",
       "      <td>0.019014</td>\n",
       "      <td>0.009184</td>\n",
       "      <td>0.012751</td>\n",
       "      <td>-0.012511</td>\n",
       "    </tr>\n",
       "  </tbody>\n",
       "</table>\n",
       "</div>"
      ],
      "text/plain": [
       "   MSCI EUROPE  MSCI USA  MSCI PACIFIC  Treasury.Bond.10Y\n",
       "1     0.059266  0.041869      0.070676           0.013917\n",
       "2     0.027948 -0.033456      0.078041          -0.019930\n",
       "3     0.019014  0.009184      0.012751          -0.012511"
      ]
     },
     "execution_count": 14,
     "metadata": {},
     "output_type": "execute_result"
    }
   ],
   "source": [
    "# print out first 3 rows and all columns of risky assets\n",
    "indata.loc[1:3,RiskyAsset]"
   ]
  },
  {
   "cell_type": "markdown",
   "metadata": {},
   "source": [
    "\n",
    "## <span style=\"color:black\">Part 1: Risky Assets Analysis</span>\n",
    "\n",
    " We will calculate the following of the risky assets:\n",
    "1. mean\n",
    "2.\tmedian\n",
    "3.\tstandard deviations \n",
    "4.\tskew \n",
    "5.\tkurtosis\n",
    "6.  return - risk ratio \n",
    "7.  plot the assets classes on a return - risk graph   \n",
    "8.  Comparing the statistics of the risky assets\n"
   ]
  },
  {
   "cell_type": "markdown",
   "metadata": {},
   "source": [
    "#### <span> 1. mean </span>"
   ]
  },
  {
   "cell_type": "code",
   "execution_count": 15,
   "metadata": {},
   "outputs": [
    {
     "data": {
      "text/plain": [
       "MSCI EUROPE          0.007798\n",
       "MSCI USA             0.009155\n",
       "MSCI PACIFIC         0.003608\n",
       "Treasury.Bond.10Y    0.005627\n",
       "dtype: float64"
      ]
     },
     "execution_count": 15,
     "metadata": {},
     "output_type": "execute_result"
    }
   ],
   "source": [
    "mean = indata[RiskyAsset].mean()\n",
    "mean"
   ]
  },
  {
   "cell_type": "markdown",
   "metadata": {},
   "source": [
    "#### <span> 2. median </span>"
   ]
  },
  {
   "cell_type": "code",
   "execution_count": 16,
   "metadata": {},
   "outputs": [
    {
     "data": {
      "text/plain": [
       "MSCI EUROPE          0.010439\n",
       "MSCI USA             0.012908\n",
       "MSCI PACIFIC         0.001994\n",
       "Treasury.Bond.10Y    0.005221\n",
       "dtype: float64"
      ]
     },
     "execution_count": 16,
     "metadata": {},
     "output_type": "execute_result"
    }
   ],
   "source": [
    "indata[RiskyAsset].median()"
   ]
  },
  {
   "cell_type": "markdown",
   "metadata": {},
   "source": [
    "#### <span> 3. standard deviation </span>"
   ]
  },
  {
   "cell_type": "code",
   "execution_count": 17,
   "metadata": {},
   "outputs": [
    {
     "data": {
      "text/plain": [
       "MSCI EUROPE          0.049996\n",
       "MSCI USA             0.041358\n",
       "MSCI PACIFIC         0.055957\n",
       "Treasury.Bond.10Y    0.019887\n",
       "dtype: float64"
      ]
     },
     "execution_count": 17,
     "metadata": {},
     "output_type": "execute_result"
    }
   ],
   "source": [
    "stdev = indata[RiskyAsset].std()\n",
    "stdev"
   ]
  },
  {
   "cell_type": "markdown",
   "metadata": {},
   "source": [
    "#### <span> 4. skew </span>"
   ]
  },
  {
   "cell_type": "code",
   "execution_count": 18,
   "metadata": {},
   "outputs": [
    {
     "data": {
      "text/plain": [
       "MSCI EUROPE         -0.487418\n",
       "MSCI USA            -0.565864\n",
       "MSCI PACIFIC         0.003849\n",
       "Treasury.Bond.10Y   -0.009944\n",
       "dtype: float64"
      ]
     },
     "execution_count": 18,
     "metadata": {},
     "output_type": "execute_result"
    }
   ],
   "source": [
    "indata[RiskyAsset].skew()"
   ]
  },
  {
   "cell_type": "markdown",
   "metadata": {},
   "source": [
    "#### <span> 5. kurtosis </span>"
   ]
  },
  {
   "cell_type": "code",
   "execution_count": 19,
   "metadata": {},
   "outputs": [
    {
     "data": {
      "text/plain": [
       "MSCI EUROPE          1.274753\n",
       "MSCI USA             1.218349\n",
       "MSCI PACIFIC         0.874957\n",
       "Treasury.Bond.10Y    0.839616\n",
       "dtype: float64"
      ]
     },
     "execution_count": 19,
     "metadata": {},
     "output_type": "execute_result"
    }
   ],
   "source": [
    "indata[RiskyAsset].kurt()"
   ]
  },
  {
   "cell_type": "markdown",
   "metadata": {},
   "source": [
    "#### <span> 6. return - risk ratio </span>"
   ]
  },
  {
   "cell_type": "code",
   "execution_count": 20,
   "metadata": {},
   "outputs": [
    {
     "data": {
      "text/plain": [
       "MSCI EUROPE          0.155978\n",
       "MSCI USA             0.221373\n",
       "MSCI PACIFIC         0.064470\n",
       "Treasury.Bond.10Y    0.282970\n",
       "dtype: float64"
      ]
     },
     "execution_count": 20,
     "metadata": {},
     "output_type": "execute_result"
    }
   ],
   "source": [
    "return_risk = indata[RiskyAsset].mean()/indata[RiskyAsset].std()\n",
    "return_risk"
   ]
  },
  {
   "cell_type": "markdown",
   "metadata": {},
   "source": [
    "#### <span> 7. plot the assets classes on a return - risk graph </span>"
   ]
  },
  {
   "cell_type": "code",
   "execution_count": 21,
   "metadata": {},
   "outputs": [
    {
     "data": {
      "text/plain": [
       "Text(0, 0.5, 'return')"
      ]
     },
     "execution_count": 21,
     "metadata": {},
     "output_type": "execute_result"
    },
    {
     "data": {
      "image/png": "[encoded data removed]",
      "text/plain": [
       "<Figure size 432x288 with 1 Axes>"
      ]
     },
     "metadata": {
      "needs_background": "light"
     },
     "output_type": "display_data"
    }
   ],
   "source": [
    "# return-risk ratio graph/\n",
    "for asset in RiskyAsset:\n",
    "    plt.scatter(x = indata[asset].std(), y = indata[asset].mean(), label = asset)\n",
    "    plt.legend()\n",
    "\n",
    "    \n",
    "plt.xlabel(\"risk\")\n",
    "plt.ylabel(\"return\")"
   ]
  },
  {
   "cell_type": "markdown",
   "metadata": {},
   "source": [
    "#### <span> 8. Write up a paragraph comparing the statistics of the risky assets </span>"
   ]
  },
  {
   "cell_type": "markdown",
   "metadata": {},
   "source": [
    "&nbsp;&nbsp;&nbsp;&nbsp; Comparing the return, MSCI USA has the highest return, while MSCI Pacific has the lowest return among the Risky Assets. Next, we can compare the risk of the four risky assets. MSCI Pacific has the has the highest risk, while Treasury Bond 10Y has a lowest risk with a great difference. With the lowest risk, Treasury Bond 10Y has the highest risk ratio. And, MSCI Pacific has the lowerst risk ratio with lowest return and with highest risk among the risky assets. "
   ]
  },
  {
   "cell_type": "markdown",
   "metadata": {},
   "source": [
    " &nbsp;&nbsp;&nbsp;&nbsp; MSCI PACIFIC is the only asset with a positive skew, while the other three assets have negative skews. And, MSCI EUROPE has the highest kurtosis, while Treasury Bond 10Y has the lowest kurtosis, telling us it will have a lower or broader peak among the 4 risky assets. "
   ]
  },
  {
   "cell_type": "markdown",
   "metadata": {},
   "source": [
    "\n",
    "## <span style=\"color:black\">Part 2:  Distributions </span>\n",
    "Plot the distributions for each asset class and Compare the distribution"
   ]
  },
  {
   "cell_type": "code",
   "execution_count": 22,
   "metadata": {},
   "outputs": [
    {
     "data": {
      "text/html": [
       "<div>\n",
       "<style scoped>\n",
       "    .dataframe tbody tr th:only-of-type {\n",
       "        vertical-align: middle;\n",
       "    }\n",
       "\n",
       "    .dataframe tbody tr th {\n",
       "        vertical-align: top;\n",
       "    }\n",
       "\n",
       "    .dataframe thead th {\n",
       "        text-align: right;\n",
       "    }\n",
       "</style>\n",
       "<table border=\"1\" class=\"dataframe\">\n",
       "  <thead>\n",
       "    <tr style=\"text-align: right;\">\n",
       "      <th></th>\n",
       "      <th>Date</th>\n",
       "      <th>MSCI WORLD</th>\n",
       "      <th>MSCI AC WORLD</th>\n",
       "      <th>MSCI EUROPE</th>\n",
       "      <th>MSCI EM</th>\n",
       "      <th>MSCI EAFE</th>\n",
       "      <th>MSCI PACIFIC</th>\n",
       "      <th>MSCI USA</th>\n",
       "      <th>Treasury.Bond.10Y</th>\n",
       "      <th>Treasury.Bill.90D</th>\n",
       "      <th>Treasury.Bill.30D</th>\n",
       "    </tr>\n",
       "  </thead>\n",
       "  <tbody>\n",
       "    <tr>\n",
       "      <td>0</td>\n",
       "      <td>1/29/1988</td>\n",
       "      <td>0.024592</td>\n",
       "      <td>0.025330</td>\n",
       "      <td>-0.040626</td>\n",
       "      <td>0.098380</td>\n",
       "      <td>0.018081</td>\n",
       "      <td>0.049747</td>\n",
       "      <td>0.042834</td>\n",
       "      <td>0.044235</td>\n",
       "      <td>0.005001</td>\n",
       "      <td>0.002762</td>\n",
       "    </tr>\n",
       "    <tr>\n",
       "      <td>1</td>\n",
       "      <td>2/29/1988</td>\n",
       "      <td>0.058224</td>\n",
       "      <td>0.058079</td>\n",
       "      <td>0.059266</td>\n",
       "      <td>0.003396</td>\n",
       "      <td>0.066914</td>\n",
       "      <td>0.070676</td>\n",
       "      <td>0.041869</td>\n",
       "      <td>0.013917</td>\n",
       "      <td>0.005349</td>\n",
       "      <td>0.004564</td>\n",
       "    </tr>\n",
       "    <tr>\n",
       "      <td>2</td>\n",
       "      <td>3/31/1988</td>\n",
       "      <td>0.030382</td>\n",
       "      <td>0.031100</td>\n",
       "      <td>0.027948</td>\n",
       "      <td>0.107385</td>\n",
       "      <td>0.061675</td>\n",
       "      <td>0.078041</td>\n",
       "      <td>-0.033456</td>\n",
       "      <td>-0.019930</td>\n",
       "      <td>0.004803</td>\n",
       "      <td>0.004402</td>\n",
       "    </tr>\n",
       "    <tr>\n",
       "      <td>3</td>\n",
       "      <td>4/29/1988</td>\n",
       "      <td>0.012798</td>\n",
       "      <td>0.012980</td>\n",
       "      <td>0.019014</td>\n",
       "      <td>0.053382</td>\n",
       "      <td>0.014717</td>\n",
       "      <td>0.012751</td>\n",
       "      <td>0.009184</td>\n",
       "      <td>-0.012511</td>\n",
       "      <td>0.004554</td>\n",
       "      <td>0.004577</td>\n",
       "    </tr>\n",
       "    <tr>\n",
       "      <td>4</td>\n",
       "      <td>5/31/1988</td>\n",
       "      <td>-0.019802</td>\n",
       "      <td>-0.019521</td>\n",
       "      <td>-0.018278</td>\n",
       "      <td>0.029962</td>\n",
       "      <td>-0.031833</td>\n",
       "      <td>-0.038039</td>\n",
       "      <td>0.008603</td>\n",
       "      <td>-0.015848</td>\n",
       "      <td>0.005027</td>\n",
       "      <td>0.005051</td>\n",
       "    </tr>\n",
       "  </tbody>\n",
       "</table>\n",
       "</div>"
      ],
      "text/plain": [
       "        Date  MSCI WORLD  MSCI AC WORLD  MSCI EUROPE   MSCI EM  MSCI EAFE  \\\n",
       "0  1/29/1988    0.024592       0.025330    -0.040626  0.098380   0.018081   \n",
       "1  2/29/1988    0.058224       0.058079     0.059266  0.003396   0.066914   \n",
       "2  3/31/1988    0.030382       0.031100     0.027948  0.107385   0.061675   \n",
       "3  4/29/1988    0.012798       0.012980     0.019014  0.053382   0.014717   \n",
       "4  5/31/1988   -0.019802      -0.019521    -0.018278  0.029962  -0.031833   \n",
       "\n",
       "   MSCI PACIFIC  MSCI USA  Treasury.Bond.10Y  Treasury.Bill.90D  \\\n",
       "0      0.049747  0.042834           0.044235           0.005001   \n",
       "1      0.070676  0.041869           0.013917           0.005349   \n",
       "2      0.078041 -0.033456          -0.019930           0.004803   \n",
       "3      0.012751  0.009184          -0.012511           0.004554   \n",
       "4     -0.038039  0.008603          -0.015848           0.005027   \n",
       "\n",
       "   Treasury.Bill.30D  \n",
       "0           0.002762  \n",
       "1           0.004564  \n",
       "2           0.004402  \n",
       "3           0.004577  \n",
       "4           0.005051  "
      ]
     },
     "execution_count": 22,
     "metadata": {},
     "output_type": "execute_result"
    }
   ],
   "source": [
    "indata.head()"
   ]
  },
  {
   "cell_type": "code",
   "execution_count": 23,
   "metadata": {},
   "outputs": [
    {
     "data": {
      "text/plain": [
       "<matplotlib.axes._subplots.AxesSubplot at 0x1c1732c450>"
      ]
     },
     "execution_count": 23,
     "metadata": {},
     "output_type": "execute_result"
    },
    {
     "data": {
      "image/png": "[encoded data removed]",
      "text/plain": [
       "<Figure size 216x216 with 1 Axes>"
      ]
     },
     "metadata": {
      "needs_background": "light"
     },
     "output_type": "display_data"
    }
   ],
   "source": [
    "indata[RiskyAsset[0]].plot.hist(stacked=True, bins=20, title = RiskyAsset[0], figsize = (3, 3))"
   ]
  },
  {
   "cell_type": "code",
   "execution_count": 24,
   "metadata": {},
   "outputs": [
    {
     "data": {
      "text/plain": [
       "<matplotlib.axes._subplots.AxesSubplot at 0x1c17e90450>"
      ]
     },
     "execution_count": 24,
     "metadata": {},
     "output_type": "execute_result"
    },
    {
     "data": {
      "image/png": "[encoded data removed]",
      "text/plain": [
       "<Figure size 216x216 with 1 Axes>"
      ]
     },
     "metadata": {
      "needs_background": "light"
     },
     "output_type": "display_data"
    }
   ],
   "source": [
    "indata[RiskyAsset[1]].plot.hist(stacked=True, bins=20, title = RiskyAsset[1], figsize = (3, 3))"
   ]
  },
  {
   "cell_type": "code",
   "execution_count": 25,
   "metadata": {},
   "outputs": [
    {
     "data": {
      "text/plain": [
       "<matplotlib.axes._subplots.AxesSubplot at 0x1c1818f9d0>"
      ]
     },
     "execution_count": 25,
     "metadata": {},
     "output_type": "execute_result"
    },
    {
     "data": {
      "image/png": "[encoded data removed]",
      "text/plain": [
       "<Figure size 216x216 with 1 Axes>"
      ]
     },
     "metadata": {
      "needs_background": "light"
     },
     "output_type": "display_data"
    }
   ],
   "source": [
    "indata[RiskyAsset[2]].plot.hist(stacked=True, bins=20, title = RiskyAsset[2], figsize = (3, 3))"
   ]
  },
  {
   "cell_type": "code",
   "execution_count": 26,
   "metadata": {},
   "outputs": [
    {
     "data": {
      "text/plain": [
       "<matplotlib.axes._subplots.AxesSubplot at 0x1c1821e250>"
      ]
     },
     "execution_count": 26,
     "metadata": {},
     "output_type": "execute_result"
    },
    {
     "data": {
      "image/png": "[encoded data removed]",
      "text/plain": [
       "<Figure size 216x216 with 1 Axes>"
      ]
     },
     "metadata": {
      "needs_background": "light"
     },
     "output_type": "display_data"
    }
   ],
   "source": [
    "indata[RiskyAsset[3]].plot.hist(stacked=True, bins=20, title = RiskyAsset[3], figsize = (3, 3))"
   ]
  },
  {
   "cell_type": "markdown",
   "metadata": {},
   "source": [
    "&nbsp;&nbsp;&nbsp;&nbsp; Comparing the spread of the distribution, the distribution of MSCI Europe has the largest spread. In constrast, the distribution of Treasury.Bond.10Y has the least spread among the 4 Risky Assets. The distributions of MSCI Pacific and Treasury Bond 10Y are symmetric among the 4 risky assets. While, the distributions of MSCI EUROPE and MSCI USA are skewed to the right. The center of the of MSCI EUROPE and MSCI USA is located above 0, while the center of MSCI Pacific and Treasury Bond 10Y is near 0. Again, the distributions of MSCI EUROPE and MSCI USA has a sharpest peak, while Treasury Bond 10Y and MSCI Pacific has a broader and not so sharp peak compared to the other two assests.\n",
    "\n"
   ]
  },
  {
   "cell_type": "markdown",
   "metadata": {},
   "source": [
    "## <span style=\"color:black\"> Part 3: Covariance and Correlation Matrices  </span>\n",
    "\n",
    " 1.\tCalculate the covariance matrix \n",
    " 2. Calculate the correlation matrix\n",
    " 3.\tVerify the covariance matrix is non-singular\n",
    " 4.\tVerify the covariance matrix is symmetric and positive definite\n"
   ]
  },
  {
   "cell_type": "markdown",
   "metadata": {},
   "source": [
    "#### <span> 1.) covariance matrix </span>"
   ]
  },
  {
   "cell_type": "code",
   "execution_count": 27,
   "metadata": {},
   "outputs": [
    {
     "data": {
      "text/html": [
       "<div>\n",
       "<style scoped>\n",
       "    .dataframe tbody tr th:only-of-type {\n",
       "        vertical-align: middle;\n",
       "    }\n",
       "\n",
       "    .dataframe tbody tr th {\n",
       "        vertical-align: top;\n",
       "    }\n",
       "\n",
       "    .dataframe thead th {\n",
       "        text-align: right;\n",
       "    }\n",
       "</style>\n",
       "<table border=\"1\" class=\"dataframe\">\n",
       "  <thead>\n",
       "    <tr style=\"text-align: right;\">\n",
       "      <th></th>\n",
       "      <th>MSCI EUROPE</th>\n",
       "      <th>MSCI USA</th>\n",
       "      <th>MSCI PACIFIC</th>\n",
       "      <th>Treasury.Bond.10Y</th>\n",
       "    </tr>\n",
       "  </thead>\n",
       "  <tbody>\n",
       "    <tr>\n",
       "      <td>MSCI EUROPE</td>\n",
       "      <td>0.002500</td>\n",
       "      <td>0.001616</td>\n",
       "      <td>0.001813</td>\n",
       "      <td>-0.000097</td>\n",
       "    </tr>\n",
       "    <tr>\n",
       "      <td>MSCI USA</td>\n",
       "      <td>0.001616</td>\n",
       "      <td>0.001710</td>\n",
       "      <td>0.001247</td>\n",
       "      <td>-0.000039</td>\n",
       "    </tr>\n",
       "    <tr>\n",
       "      <td>MSCI PACIFIC</td>\n",
       "      <td>0.001813</td>\n",
       "      <td>0.001247</td>\n",
       "      <td>0.003131</td>\n",
       "      <td>-0.000035</td>\n",
       "    </tr>\n",
       "    <tr>\n",
       "      <td>Treasury.Bond.10Y</td>\n",
       "      <td>-0.000097</td>\n",
       "      <td>-0.000039</td>\n",
       "      <td>-0.000035</td>\n",
       "      <td>0.000395</td>\n",
       "    </tr>\n",
       "  </tbody>\n",
       "</table>\n",
       "</div>"
      ],
      "text/plain": [
       "                   MSCI EUROPE  MSCI USA  MSCI PACIFIC  Treasury.Bond.10Y\n",
       "MSCI EUROPE           0.002500  0.001616      0.001813          -0.000097\n",
       "MSCI USA              0.001616  0.001710      0.001247          -0.000039\n",
       "MSCI PACIFIC          0.001813  0.001247      0.003131          -0.000035\n",
       "Treasury.Bond.10Y    -0.000097 -0.000039     -0.000035           0.000395"
      ]
     },
     "execution_count": 27,
     "metadata": {},
     "output_type": "execute_result"
    }
   ],
   "source": [
    "cov = indata[RiskyAsset].cov()\n",
    "cov"
   ]
  },
  {
   "cell_type": "markdown",
   "metadata": {},
   "source": [
    "#### <span> 2.) correlation matrix </span>"
   ]
  },
  {
   "cell_type": "code",
   "execution_count": 28,
   "metadata": {},
   "outputs": [
    {
     "data": {
      "text/html": [
       "<div>\n",
       "<style scoped>\n",
       "    .dataframe tbody tr th:only-of-type {\n",
       "        vertical-align: middle;\n",
       "    }\n",
       "\n",
       "    .dataframe tbody tr th {\n",
       "        vertical-align: top;\n",
       "    }\n",
       "\n",
       "    .dataframe thead th {\n",
       "        text-align: right;\n",
       "    }\n",
       "</style>\n",
       "<table border=\"1\" class=\"dataframe\">\n",
       "  <thead>\n",
       "    <tr style=\"text-align: right;\">\n",
       "      <th></th>\n",
       "      <th>MSCI EUROPE</th>\n",
       "      <th>MSCI USA</th>\n",
       "      <th>MSCI PACIFIC</th>\n",
       "      <th>Treasury.Bond.10Y</th>\n",
       "    </tr>\n",
       "  </thead>\n",
       "  <tbody>\n",
       "    <tr>\n",
       "      <td>MSCI EUROPE</td>\n",
       "      <td>1.000000</td>\n",
       "      <td>0.781742</td>\n",
       "      <td>0.647950</td>\n",
       "      <td>-0.097888</td>\n",
       "    </tr>\n",
       "    <tr>\n",
       "      <td>MSCI USA</td>\n",
       "      <td>0.781742</td>\n",
       "      <td>1.000000</td>\n",
       "      <td>0.538701</td>\n",
       "      <td>-0.047390</td>\n",
       "    </tr>\n",
       "    <tr>\n",
       "      <td>MSCI PACIFIC</td>\n",
       "      <td>0.647950</td>\n",
       "      <td>0.538701</td>\n",
       "      <td>1.000000</td>\n",
       "      <td>-0.031418</td>\n",
       "    </tr>\n",
       "    <tr>\n",
       "      <td>Treasury.Bond.10Y</td>\n",
       "      <td>-0.097888</td>\n",
       "      <td>-0.047390</td>\n",
       "      <td>-0.031418</td>\n",
       "      <td>1.000000</td>\n",
       "    </tr>\n",
       "  </tbody>\n",
       "</table>\n",
       "</div>"
      ],
      "text/plain": [
       "                   MSCI EUROPE  MSCI USA  MSCI PACIFIC  Treasury.Bond.10Y\n",
       "MSCI EUROPE           1.000000  0.781742      0.647950          -0.097888\n",
       "MSCI USA              0.781742  1.000000      0.538701          -0.047390\n",
       "MSCI PACIFIC          0.647950  0.538701      1.000000          -0.031418\n",
       "Treasury.Bond.10Y    -0.097888 -0.047390     -0.031418           1.000000"
      ]
     },
     "execution_count": 28,
     "metadata": {},
     "output_type": "execute_result"
    }
   ],
   "source": [
    "indata[RiskyAsset].corr()"
   ]
  },
  {
   "cell_type": "markdown",
   "metadata": {},
   "source": [
    "#### <span> 3.) Verify the covariance matrix is non-singular </span>"
   ]
  },
  {
   "cell_type": "code",
   "execution_count": 29,
   "metadata": {},
   "outputs": [
    {
     "name": "stdout",
     "output_type": "stream",
     "text": [
      "covariance matrix is non-singular:  True\n"
     ]
    }
   ],
   "source": [
    "print(\"covariance matrix is non-singular: \", ((np.linalg.det(cov)))!=0)"
   ]
  },
  {
   "cell_type": "markdown",
   "metadata": {},
   "source": [
    "#### <span> 4.) Verify the covariance matrix is symmetric and positive definite </span>"
   ]
  },
  {
   "cell_type": "code",
   "execution_count": 30,
   "metadata": {},
   "outputs": [
    {
     "name": "stdout",
     "output_type": "stream",
     "text": [
      "covariance matrix is symmetric: True\n",
      "covariance matrix is positive definite:  True\n"
     ]
    }
   ],
   "source": [
    "print(\"covariance matrix is symmetric:\" , (np.all(cov.transpose() == cov)))\n",
    "\n",
    "\n",
    "print(\"covariance matrix is positive definite: \", (np.all(np.linalg.eigvals(cov) > 0)))"
   ]
  },
  {
   "cell_type": "markdown",
   "metadata": {},
   "source": [
    "## <span style=\"color:black\">Part 4: Calculate the weights, returns and risks for the following portfolios     </span>\n",
    " 1.\tMinimum variance portfolio\n",
    " 2. Portfolio with expected return of 9% and minimum variance\n",
    " 3. Efficicent frontier (calculate the weights, returns and risk of at least 7 portfolios)\n",
    " 4. Plot the portfolios and asset classes on a graph\n",
    " 5. Plot an equal weighted portolio on the graph\n",
    " 6. What is the expected return and risk of the minimum variance portfolio\n",
    "  "
   ]
  },
  {
   "cell_type": "code",
   "execution_count": 31,
   "metadata": {},
   "outputs": [],
   "source": [
    "Cov = np.array(indata[RiskyAsset].cov())\n",
    "inverseCov = np.linalg.inv(Cov)\n",
    "m = np.array(indata[RiskyAsset].mean())\n",
    "u = np.array(Cov.shape[1] *[1] , float)"
   ]
  },
  {
   "cell_type": "code",
   "execution_count": 32,
   "metadata": {},
   "outputs": [],
   "source": [
    "def get_risk (w):\n",
    "    return np.sqrt(np.dot(np.dot(w , Cov) , w.T))\n",
    "\n",
    "def get_return (w):\n",
    "    return np.dot(w , m.transpose())\n"
   ]
  },
  {
   "cell_type": "markdown",
   "metadata": {},
   "source": [
    "#### <span> 1. Minimum variance portfolio </span>"
   ]
  },
  {
   "cell_type": "code",
   "execution_count": 40,
   "metadata": {},
   "outputs": [
    {
     "name": "stdout",
     "output_type": "stream",
     "text": [
      "Minimum Variance Portfolio Weight:  [0.05030877 0.12979729 0.02500862 0.79488532]\n"
     ]
    }
   ],
   "source": [
    "num = np.dot(np.linalg.inv(Cov), u)\n",
    "den = np.dot(u, num)\n",
    "minWeight = num / den\n",
    "\n",
    "print(\"Minimum Variance Portfolio Weight: \", minWeight)\n"
   ]
  },
  {
   "cell_type": "markdown",
   "metadata": {},
   "source": [
    "#### <span> 2. Portfolio with expected return of 9% and minimum variance </span>"
   ]
  },
  {
   "cell_type": "code",
   "execution_count": 31,
   "metadata": {},
   "outputs": [
    {
     "name": "stdout",
     "output_type": "stream",
     "text": [
      "Weight:  [[  0.66036403  16.99526494 -11.37623988  -5.27938909]]\n",
      "Risk:  0.6647102404736523\n"
     ]
    }
   ],
   "source": [
    "M = np.matrix([[np.dot(  np.dot( m , inverseCov ) , m.T ), \n",
    "                np.dot(  np.dot( u , inverseCov ) , m.T )], \n",
    "               [np.dot(  np.dot( m , inverseCov ) , u.T ), \n",
    "                np.dot(  np.dot( u , inverseCov ) , u.T )]], \n",
    "              dtype = 'float')\n",
    "\n",
    "inverseM = np.linalg.inv(M)\n",
    "\n",
    "\n",
    "# find lambda\n",
    "lambda_matrix = 2 * np.dot(inverseM, np.matrix([0.09, 1]).T)\n",
    "\n",
    "# find weight\n",
    "exp9_weight = (lambda_matrix[0] * np.dot(m, inverseCov) +lambda_matrix[1] *  np.dot(u, inverseCov))\n",
    "exp9_weight = (1/2) * exp9_weight \n",
    "\n",
    "#find Risk\n",
    "exp9_Risk = get_risk(exp9_weight)\n",
    "\n",
    "\n",
    "\n",
    "print(\"Weight: \", exp9_weight)\n",
    "print(\"Risk: \", float(exp9_Risk))\n"
   ]
  },
  {
   "cell_type": "markdown",
   "metadata": {},
   "source": [
    "#### <span> 3. Efficicent frontier (calculate the weights, returns and risk of at least 7 portfolios) </span>"
   ]
  },
  {
   "cell_type": "code",
   "execution_count": 54,
   "metadata": {},
   "outputs": [
    {
     "name": "stdout",
     "output_type": "stream",
     "text": [
      "Portfolio 1 :\n",
      "Weight: [[ 0.02120864 -0.67469911  0.56885736  1.08463311]]\n",
      "Return:  0.0021439749807556033\n",
      "Risk:  0.03616885833299311\n",
      "\n",
      "\n",
      "Portfolio 2 :\n",
      "Weight: [[ 0.0357587  -0.27245091  0.29693299  0.93975922]]\n",
      "Return:  0.004143974980755603\n",
      "Risk:  0.023551936466346315\n",
      "\n",
      "\n",
      "Portfolio 3 :\n",
      "Weight: [[0.05030877 0.12979729 0.02500862 0.79488532]]\n",
      "Return:  0.006143974980755603\n",
      "Risk:  0.017422098344221055\n",
      "\n",
      "\n",
      "Portfolio 4 :\n",
      "Weight: [[ 0.06485883  0.53204549 -0.24691576  0.65001143]]\n",
      "Return:  0.008143974980755603\n",
      "Risk:  0.023551936466346308\n",
      "\n",
      "\n",
      "Portfolio 5 :\n",
      "Weight: [[ 0.0794089   0.9342937  -0.51884013  0.50513754]]\n",
      "Return:  0.010143974980755604\n",
      "Risk:  0.03616885833299309\n",
      "\n",
      "\n",
      "Portfolio 6 :\n",
      "Weight: [[ 0.09395896  1.3365419  -0.7907645   0.36026364]]\n",
      "Return:  0.012143974980755604\n",
      "Risk:  0.05063602784685667\n",
      "\n",
      "\n",
      "Portfolio 7 :\n",
      "Weight: [[ 0.10850902  1.7387901  -1.06268887  0.21538975]]\n",
      "Return:  0.014143974980755604\n",
      "Risk:  0.06574311158061633\n",
      "\n",
      "\n"
     ]
    }
   ],
   "source": [
    "return_mvl = []\n",
    "risk_mvl = []\n",
    "#returns = 0.01\n",
    "\n",
    "stdevs = np.sqrt(np.diag(Cov))\n",
    "\n",
    "returns = 0.006143974980755603 -0.004 \n",
    "M = np.matrix([[np.dot(  np.dot( m , inverseCov ) , m.T ), \n",
    "                np.dot(  np.dot( u , inverseCov ) , m.T )], \n",
    "               [np.dot(  np.dot( m , inverseCov ) , u.T ), \n",
    "                np.dot(  np.dot( u , inverseCov ) , u.T )]], dtype = 'float')\n",
    "\n",
    "for i in range (7):\n",
    "    \n",
    "    lambda_matrix = 2 * np.dot(np.linalg.inv(M), np.matrix([returns, 1]).T)\n",
    "\n",
    "    Weight_mvl = lambda_matrix[0] * np.dot(m, inverseCov) +lambda_matrix[1] *  np.dot(u, inverseCov)\n",
    "    Weight_mvl = Weight_mvl/2\n",
    "    \n",
    "    return_mvl.append(returns)\n",
    "\n",
    "    Risk_mvl = get_risk(Weight_mvl)\n",
    "    risk_mvl.append(float(Risk_mvl))\n",
    "    \n",
    "    print(\"Portfolio\",i + 1,\":\" )\n",
    "    print(\"Weight:\",(Weight_mvl))\n",
    "    print(\"Return: \" ,float(returns))\n",
    "    print(\"Risk: \" ,float(Risk_mvl))\n",
    "    print(\"\\n\") \n",
    "    \n",
    "    returns += 0.002\n"
   ]
  },
  {
   "cell_type": "markdown",
   "metadata": {},
   "source": [
    "#### <span> 4. Plot the portfolios and asset classes on a graph </span>"
   ]
  },
  {
   "cell_type": "code",
   "execution_count": 74,
   "metadata": {},
   "outputs": [
    {
     "data": {
      "text/plain": [
       "Text(0, 0.5, 'Return')"
      ]
     },
     "execution_count": 74,
     "metadata": {},
     "output_type": "execute_result"
    },
    {
     "data": {
      "image/png": "[encoded data removed]",
      "text/plain": [
       "<Figure size 720x720 with 1 Axes>"
      ]
     },
     "metadata": {
      "needs_background": "light"
     },
     "output_type": "display_data"
    }
   ],
   "source": [
    "return_mvl = []\n",
    "risk_mvl = []\n",
    "#returns = 0.01\n",
    "\n",
    "stdevs = np.sqrt(np.diag(Cov))\n",
    "\n",
    "returns = 0.006143974980755603 -0.006 \n",
    "\n",
    "for i in range (25):\n",
    "    \n",
    "    lambda_matrix = 2 * np.dot(np.linalg.inv(M), np.matrix([returns, 1]).T)\n",
    "\n",
    "    Weight_mvl = lambda_matrix[0] * np.dot(m, inverseCov) +lambda_matrix[1] *  np.dot(u, inverseCov)\n",
    "    Weight_mvl = Weight_mvl/2\n",
    "    \n",
    "    return_mvl.append(returns)\n",
    "\n",
    "    Risk_mvl = get_risk(Weight_mvl)\n",
    "    risk_mvl.append(float(Risk_mvl))\n",
    "\n",
    "    \n",
    "    returns += 0.0005\n",
    "\n",
    "\n",
    "\n",
    "\n",
    "\n",
    "plt.figure(figsize=(10, 10))\n",
    "\n",
    "plt.plot(risk_mvl, return_mvl , c = 'Red')\n",
    "\n",
    "\n",
    "for i in range(4):\n",
    "    plt.scatter(x = stdevs[i], y = m[i], label = RiskyAsset[i])\n",
    "    plt.legend(bbox_to_anchor=(1.05, 1), loc='upper left')\n",
    "    i += 1\n",
    "\n",
    "\n",
    "plt.xlabel(\"Risk\")\n",
    "plt.ylabel(\"Return\")"
   ]
  },
  {
   "cell_type": "markdown",
   "metadata": {},
   "source": [
    "#### <span> 5. Plot an equal weighted portolio on the graph </span>"
   ]
  },
  {
   "cell_type": "code",
   "execution_count": 35,
   "metadata": {},
   "outputs": [
    {
     "name": "stdout",
     "output_type": "stream",
     "text": [
      "Weights:  [0.25, 0.25, 0.25, 0.25]\n",
      "Equal Return:  0.006547158190373563\n",
      "Equal Risk: 0.03235144184029226\n"
     ]
    },
    {
     "data": {
      "text/plain": [
       "Text(0, 0.5, 'Return')"
      ]
     },
     "execution_count": 35,
     "metadata": {},
     "output_type": "execute_result"
    },
    {
     "data": {
      "image/png": "[encoded data removed]",
      "text/plain": [
       "<Figure size 432x288 with 1 Axes>"
      ]
     },
     "metadata": {
      "needs_background": "light"
     },
     "output_type": "display_data"
    }
   ],
   "source": [
    "equal_weights = [1/len(RiskyAsset) for i in range (len(RiskyAsset))]\n",
    "\n",
    "\n",
    "equal_return = np.dot(equal_weights, m.T)\n",
    "equal_risk = np.sqrt(np.dot(np.dot(equal_weights, Cov), equal_weights ))\n",
    "print(\"Weights: \",equal_weights)\n",
    "print(\"Equal Return: \", equal_return)\n",
    "print(\"Equal Risk:\", equal_risk)\n",
    "\n",
    "\n",
    "\n",
    "plt.scatter(x = equal_risk, y = equal_return)\n",
    "plt.xlabel(\"Risk\")\n",
    "plt.ylabel(\"Return\")\n"
   ]
  },
  {
   "cell_type": "markdown",
   "metadata": {},
   "source": [
    "#### <span> 6. What is the expected return and risk of the minimum variance portfolio </span>"
   ]
  },
  {
   "cell_type": "code",
   "execution_count": 44,
   "metadata": {},
   "outputs": [
    {
     "name": "stdout",
     "output_type": "stream",
     "text": [
      "Expected Return of minimum variance portfolio is 0.006143974980755603\n"
     ]
    }
   ],
   "source": [
    "minReturn = get_return(minWeight)\n",
    "print(\"Expected Return of minimum variance portfolio is\", minReturn)"
   ]
  },
  {
   "cell_type": "code",
   "execution_count": 45,
   "metadata": {},
   "outputs": [
    {
     "name": "stdout",
     "output_type": "stream",
     "text": [
      "Expected Return of minimum variance portfolio is 0.01742209834422105\n"
     ]
    }
   ],
   "source": [
    "minRisk = get_risk(minWeight)\n",
    "print(\"Expected Return of minimum variance portfolio is\", minRisk)\n"
   ]
  },
  {
   "cell_type": "markdown",
   "metadata": {},
   "source": [
    "## <span style=\"color:black\">Part 5: Calculate the beta (t-stat, R-square) of each the risk asset class to the following 2 'market' portfolios   </span>\n",
    "\n",
    "  Market Portfolio 1: \"MSCI AC WORLD\"    \n",
    "  Market Portfolio 2: \"MSCI USA\"\n",
    "  \n",
    "  Compare the betas for each asset class\n"
   ]
  },
  {
   "cell_type": "code",
   "execution_count": 56,
   "metadata": {},
   "outputs": [
    {
     "name": "stdout",
     "output_type": "stream",
     "text": [
      "Part 1\n",
      "MSCI EUROPE\n",
      "                                 OLS Regression Results                                \n",
      "=======================================================================================\n",
      "Dep. Variable:            MSCI EUROPE   R-squared (uncentered):                   0.843\n",
      "Model:                            OLS   Adj. R-squared (uncentered):              0.842\n",
      "Method:                 Least Squares   F-statistic:                              1859.\n",
      "Date:                Sun, 08 Nov 2020   Prob (F-statistic):                   2.00e-141\n",
      "Time:                        06:48:51   Log-Likelihood:                          866.89\n",
      "No. Observations:                 348   AIC:                                     -1732.\n",
      "Df Residuals:                     347   BIC:                                     -1728.\n",
      "Df Model:                           1                                                  \n",
      "Covariance Type:            nonrobust                                                  \n",
      "=================================================================================\n",
      "                    coef    std err          t      P>|t|      [0.025      0.975]\n",
      "---------------------------------------------------------------------------------\n",
      "MSCI AC WORLD     1.0540      0.024     43.116      0.000       1.006       1.102\n",
      "==============================================================================\n",
      "Omnibus:                       12.100   Durbin-Watson:                   1.908\n",
      "Prob(Omnibus):                  0.002   Jarque-Bera (JB):               22.204\n",
      "Skew:                           0.155   Prob(JB):                     1.51e-05\n",
      "Kurtosis:                       4.198   Cond. No.                         1.00\n",
      "==============================================================================\n",
      "\n",
      "Warnings:\n",
      "[1] Standard Errors assume that the covariance matrix of the errors is correctly specified.\n",
      "\n",
      "\n",
      "MSCI USA\n",
      "                                 OLS Regression Results                                \n",
      "=======================================================================================\n",
      "Dep. Variable:               MSCI USA   R-squared (uncentered):                   0.794\n",
      "Model:                            OLS   Adj. R-squared (uncentered):              0.793\n",
      "Method:                 Least Squares   F-statistic:                              1337.\n",
      "Date:                Sun, 08 Nov 2020   Prob (F-statistic):                   4.70e-121\n",
      "Time:                        06:48:51   Log-Likelihood:                          881.73\n",
      "No. Observations:                 348   AIC:                                     -1761.\n",
      "Df Residuals:                     347   BIC:                                     -1758.\n",
      "Df Model:                           1                                                  \n",
      "Covariance Type:            nonrobust                                                  \n",
      "=================================================================================\n",
      "                    coef    std err          t      P>|t|      [0.025      0.975]\n",
      "---------------------------------------------------------------------------------\n",
      "MSCI AC WORLD     0.8564      0.023     36.561      0.000       0.810       0.903\n",
      "==============================================================================\n",
      "Omnibus:                       28.123   Durbin-Watson:                   2.061\n",
      "Prob(Omnibus):                  0.000   Jarque-Bera (JB):              108.373\n",
      "Skew:                           0.138   Prob(JB):                     2.93e-24\n",
      "Kurtosis:                       5.720   Cond. No.                         1.00\n",
      "==============================================================================\n",
      "\n",
      "Warnings:\n",
      "[1] Standard Errors assume that the covariance matrix of the errors is correctly specified.\n",
      "\n",
      "\n",
      "MSCI PACIFIC\n",
      "                                 OLS Regression Results                                \n",
      "=======================================================================================\n",
      "Dep. Variable:           MSCI PACIFIC   R-squared (uncentered):                   0.649\n",
      "Model:                            OLS   Adj. R-squared (uncentered):              0.648\n",
      "Method:                 Least Squares   F-statistic:                              641.1\n",
      "Date:                Sun, 08 Nov 2020   Prob (F-statistic):                    7.50e-81\n",
      "Time:                        06:48:51   Log-Likelihood:                          691.41\n",
      "No. Observations:                 348   AIC:                                     -1381.\n",
      "Df Residuals:                     347   BIC:                                     -1377.\n",
      "Df Model:                           1                                                  \n",
      "Covariance Type:            nonrobust                                                  \n",
      "=================================================================================\n",
      "                    coef    std err          t      P>|t|      [0.025      0.975]\n",
      "---------------------------------------------------------------------------------\n",
      "MSCI AC WORLD     1.0248      0.040     25.320      0.000       0.945       1.104\n",
      "==============================================================================\n",
      "Omnibus:                       21.195   Durbin-Watson:                   1.909\n",
      "Prob(Omnibus):                  0.000   Jarque-Bera (JB):               57.953\n",
      "Skew:                           0.182   Prob(JB):                     2.60e-13\n",
      "Kurtosis:                       4.966   Cond. No.                         1.00\n",
      "==============================================================================\n",
      "\n",
      "Warnings:\n",
      "[1] Standard Errors assume that the covariance matrix of the errors is correctly specified.\n",
      "\n",
      "\n",
      "Treasury.Bond.10Y\n",
      "                                 OLS Regression Results                                \n",
      "=======================================================================================\n",
      "Dep. Variable:      Treasury.Bond.10Y   R-squared (uncentered):                   0.002\n",
      "Model:                            OLS   Adj. R-squared (uncentered):             -0.001\n",
      "Method:                 Least Squares   F-statistic:                             0.5380\n",
      "Date:                Sun, 08 Nov 2020   Prob (F-statistic):                       0.464\n",
      "Time:                        06:48:51   Log-Likelihood:                          856.90\n",
      "No. Observations:                 348   AIC:                                     -1712.\n",
      "Df Residuals:                     347   BIC:                                     -1708.\n",
      "Df Model:                           1                                                  \n",
      "Covariance Type:            nonrobust                                                  \n",
      "=================================================================================\n",
      "                    coef    std err          t      P>|t|      [0.025      0.975]\n",
      "---------------------------------------------------------------------------------\n",
      "MSCI AC WORLD    -0.0185      0.025     -0.733      0.464      -0.068       0.031\n",
      "==============================================================================\n",
      "Omnibus:                        6.329   Durbin-Watson:                   1.710\n",
      "Prob(Omnibus):                  0.042   Jarque-Bera (JB):                9.418\n",
      "Skew:                          -0.033   Prob(JB):                      0.00901\n",
      "Kurtosis:                       3.803   Cond. No.                         1.00\n",
      "==============================================================================\n",
      "\n",
      "Warnings:\n",
      "[1] Standard Errors assume that the covariance matrix of the errors is correctly specified.\n",
      "\n",
      "\n",
      "Part 2\n",
      "MSCI EUROPE\n",
      "                                 OLS Regression Results                                \n",
      "=======================================================================================\n",
      "Dep. Variable:            MSCI EUROPE   R-squared (uncentered):                   0.620\n",
      "Model:                            OLS   Adj. R-squared (uncentered):              0.619\n",
      "Method:                 Least Squares   F-statistic:                              566.4\n",
      "Date:                Sun, 08 Nov 2020   Prob (F-statistic):                    6.38e-75\n",
      "Time:                        06:48:51   Log-Likelihood:                          713.47\n",
      "No. Observations:                 348   AIC:                                     -1425.\n",
      "Df Residuals:                     347   BIC:                                     -1421.\n",
      "Df Model:                           1                                                  \n",
      "Covariance Type:            nonrobust                                                  \n",
      "==============================================================================\n",
      "                 coef    std err          t      P>|t|      [0.025      0.975]\n",
      "------------------------------------------------------------------------------\n",
      "MSCI USA       0.9407      0.040     23.800      0.000       0.863       1.018\n",
      "==============================================================================\n",
      "Omnibus:                        3.523   Durbin-Watson:                   2.034\n",
      "Prob(Omnibus):                  0.172   Jarque-Bera (JB):                3.393\n",
      "Skew:                          -0.165   Prob(JB):                        0.183\n",
      "Kurtosis:                       3.354   Cond. No.                         1.00\n",
      "==============================================================================\n",
      "\n",
      "Warnings:\n",
      "[1] Standard Errors assume that the covariance matrix of the errors is correctly specified.\n",
      "\n",
      "\n",
      "MSCI USA\n",
      "                                 OLS Regression Results                                \n",
      "=======================================================================================\n",
      "Dep. Variable:               MSCI USA   R-squared (uncentered):                   1.000\n",
      "Model:                            OLS   Adj. R-squared (uncentered):              1.000\n",
      "Method:                 Least Squares   F-statistic:                          1.282e+34\n",
      "Date:                Sun, 08 Nov 2020   Prob (F-statistic):                        0.00\n",
      "Time:                        06:48:51   Log-Likelihood:                          13254.\n",
      "No. Observations:                 348   AIC:                                 -2.651e+04\n",
      "Df Residuals:                     347   BIC:                                 -2.650e+04\n",
      "Df Model:                           1                                                  \n",
      "Covariance Type:            nonrobust                                                  \n",
      "==============================================================================\n",
      "                 coef    std err          t      P>|t|      [0.025      0.975]\n",
      "------------------------------------------------------------------------------\n",
      "MSCI USA       1.0000   8.83e-18   1.13e+17      0.000       1.000       1.000\n",
      "==============================================================================\n",
      "Omnibus:                       34.620   Durbin-Watson:                   1.834\n",
      "Prob(Omnibus):                  0.000   Jarque-Bera (JB):               57.639\n",
      "Skew:                          -0.618   Prob(JB):                     3.05e-13\n",
      "Kurtosis:                       4.564   Cond. No.                         1.00\n",
      "==============================================================================\n",
      "\n",
      "Warnings:\n",
      "[1] Standard Errors assume that the covariance matrix of the errors is correctly specified.\n",
      "\n",
      "\n",
      "MSCI PACIFIC\n",
      "                                 OLS Regression Results                                \n",
      "=======================================================================================\n",
      "Dep. Variable:           MSCI PACIFIC   R-squared (uncentered):                   0.290\n",
      "Model:                            OLS   Adj. R-squared (uncentered):              0.288\n",
      "Method:                 Least Squares   F-statistic:                              141.9\n",
      "Date:                Sun, 08 Nov 2020   Prob (F-statistic):                    1.15e-27\n",
      "Time:                        06:48:51   Log-Likelihood:                          568.99\n",
      "No. Observations:                 348   AIC:                                     -1136.\n",
      "Df Residuals:                     347   BIC:                                     -1132.\n",
      "Df Model:                           1                                                  \n",
      "Covariance Type:            nonrobust                                                  \n",
      "==============================================================================\n",
      "                 coef    std err          t      P>|t|      [0.025      0.975]\n",
      "------------------------------------------------------------------------------\n",
      "MSCI USA       0.7132      0.060     11.913      0.000       0.595       0.831\n",
      "==============================================================================\n",
      "Omnibus:                       30.405   Durbin-Watson:                   1.963\n",
      "Prob(Omnibus):                  0.000   Jarque-Bera (JB):              108.276\n",
      "Skew:                           0.253   Prob(JB):                     3.08e-24\n",
      "Kurtosis:                       5.685   Cond. No.                         1.00\n",
      "==============================================================================\n",
      "\n",
      "Warnings:\n",
      "[1] Standard Errors assume that the covariance matrix of the errors is correctly specified.\n",
      "\n",
      "\n",
      "Treasury.Bond.10Y\n",
      "                                 OLS Regression Results                                \n",
      "=======================================================================================\n",
      "Dep. Variable:      Treasury.Bond.10Y   R-squared (uncentered):                   0.000\n",
      "Model:                            OLS   Adj. R-squared (uncentered):             -0.003\n",
      "Method:                 Least Squares   F-statistic:                            0.07293\n",
      "Date:                Sun, 08 Nov 2020   Prob (F-statistic):                       0.787\n",
      "Time:                        06:48:51   Log-Likelihood:                          856.67\n",
      "No. Observations:                 348   AIC:                                     -1711.\n",
      "Df Residuals:                     347   BIC:                                     -1707.\n",
      "Df Model:                           1                                                  \n",
      "Covariance Type:            nonrobust                                                  \n",
      "==============================================================================\n",
      "                 coef    std err          t      P>|t|      [0.025      0.975]\n",
      "------------------------------------------------------------------------------\n",
      "MSCI USA       0.0071      0.026      0.270      0.787      -0.044       0.059\n",
      "==============================================================================\n",
      "Omnibus:                        6.433   Durbin-Watson:                   1.706\n",
      "Prob(Omnibus):                  0.040   Jarque-Bera (JB):                9.725\n",
      "Skew:                          -0.003   Prob(JB):                      0.00773\n",
      "Kurtosis:                       3.819   Cond. No.                         1.00\n",
      "==============================================================================\n",
      "\n",
      "Warnings:\n",
      "[1] Standard Errors assume that the covariance matrix of the errors is correctly specified.\n",
      "\n",
      "\n"
     ]
    }
   ],
   "source": [
    "# Comparing with Market Portfolio 1: \"MSCI AC WORLD\"\n",
    "\n",
    "print(\"Part 1\")\n",
    "for asset in RiskyAsset:\n",
    "    result1 = sm.OLS (indata[asset], indata[\"MSCI AC WORLD\"]).fit()\n",
    "    print(asset)\n",
    "    print(result1.summary())\n",
    "    print(\"\\n\")\n",
    "\n",
    "print(\"Part 2\")\n",
    "for asset in RiskyAsset:\n",
    "    result1 = sm.OLS (indata[asset], indata[\"MSCI USA\"]).fit()\n",
    "    print(asset)\n",
    "    print(result1.summary())\n",
    "    print(\"\\n\")\n",
    "\n"
   ]
  },
  {
   "cell_type": "markdown",
   "metadata": {},
   "source": [
    "Comparing with Market Portfolio 1: \"MSCI AC WORLD\", MSCI EUROPE AND MSCI PACIFIC has betas that are near 1, which tells us risk is somewhat similar to MSCI AC WORLD, which is the market portfolio that is being compared to. And, MSCI USA has a beta greater than 0 but less than 1, telling us it is less riskier than MSCI AC WORLD. In addition, Treasury Bond 10Y has a negative beta, which tells us that Treasury Bond moves in a opposite direction compared to the Market Portfolio.\n",
    "\n",
    "Comparing with Market Portfolio 2: \"MSCI USA\", MSCI EUROPE, MSCI PACIFIC, and Treasury Bond 10Y has a beta between 0 and 1. But, MSCI EUROPE has a beta near 1, telling us risk is somewhat similar to the market porfolio that we are comparing to. And, Treasury Bond 10Y has a beta near 0, which mean that the Bond is uncorrelated with the market portfolio. MSCI USA has a beta of 1 as it is compared with itself.  "
   ]
  },
  {
   "cell_type": "markdown",
   "metadata": {},
   "source": [
    "## <span style=\"color:black\">Part 6: Advanced Portfolio Optimization </span>\n",
    "\n",
    "Exponentially Weighted Moving Average Covariance Matrix\n",
    "An exponentially weighted moving average (EWMA) puts more weight on the more recent observations, and thus takes some account of the dynamic ordering in returns.  When an EWMA is applied to squared returns the resulting volatility estimate will react immediately following an unusually large return.  Then the effect of this return in the EWMA gradually diminishes over time.  The reaction of EWMA volatility estimates to market events therefore persist over time, and with a strength determined by the smoothing constant \\lambda.  This is a number between 0 and 1.  The larger the value of \\lambda the more weight is placed on past observations and so the smoother the series becomes.  (Alexander, 2001)\n",
    "\n",
    "Look up how to calculate a covariance matrix using EWMA\n",
    "Calculate the 4 minimum variance portfolio with this matrix using 4 different \\lambdas.  Compare the weights for these 4 different \\lambdas and the equal weighted (normal covariance matrix from Part 3)\n"
   ]
  },
  {
   "cell_type": "code",
   "execution_count": 46,
   "metadata": {},
   "outputs": [
    {
     "name": "stdout",
     "output_type": "stream",
     "text": [
      "covariance: \n",
      "\n",
      "                   MSCI EUROPE  MSCI USA  MSCI PACIFIC  Treasury.Bond.10Y\n",
      "MSCI EUROPE           0.002500  0.001616      0.001813          -0.000097\n",
      "MSCI USA              0.001616  0.001710      0.001247          -0.000039\n",
      "MSCI PACIFIC          0.001813  0.001247      0.003131          -0.000035\n",
      "Treasury.Bond.10Y    -0.000097 -0.000039     -0.000035           0.000395\n",
      "Weights:  [0.05030877 0.12979729 0.02500862 0.79488532]\n",
      "Return:  0.006143974980755603\n",
      "Risk: 0.01742209834422105\n",
      "\n",
      "\n",
      "minimum variance portfolio 1:\n",
      "covariance lambda: \n",
      "\n",
      "                   MSCI EUROPE  MSCI USA  MSCI PACIFIC  Treasury.Bond.10Y\n",
      "MSCI EUROPE           0.000151  0.000105      0.000087          -0.000015\n",
      "MSCI USA              0.000105  0.000125      0.000077           0.000001\n",
      "MSCI PACIFIC          0.000087  0.000077      0.000210          -0.000012\n",
      "Treasury.Bond.10Y    -0.000015  0.000001     -0.000012           0.000022\n",
      "weight:  [ 0.23066853 -0.13714408  0.0685174   0.83795815]\n",
      "risk:  0.018880729955842737\n",
      "return:  0.005505839305354721\n",
      "\n",
      "\n",
      "minimum variance portfolio 2:\n",
      "covariance lambda: \n",
      "\n",
      "                   MSCI EUROPE  MSCI USA  MSCI PACIFIC  Treasury.Bond.10Y\n",
      "MSCI EUROPE           0.000887  0.000582      0.000615          -0.000065\n",
      "MSCI USA              0.000582  0.000602      0.000460          -0.000034\n",
      "MSCI PACIFIC          0.000615  0.000460      0.001121          -0.000058\n",
      "Treasury.Bond.10Y    -0.000065 -0.000034     -0.000058           0.000137\n",
      "weight:  [0.06020487 0.10892893 0.04913078 0.78173542]\n",
      "risk:  0.01747507759346891\n",
      "return:  0.006043111227406306\n",
      "\n",
      "\n",
      "minimum variance portfolio 3:\n",
      "covariance lambda: \n",
      "\n",
      "                   MSCI EUROPE  MSCI USA  MSCI PACIFIC  Treasury.Bond.10Y\n",
      "MSCI EUROPE           0.001545  0.001005      0.001104          -0.000081\n",
      "MSCI USA              0.001005  0.001046      0.000786          -0.000043\n",
      "MSCI PACIFIC          0.001104  0.000786      0.001937          -0.000054\n",
      "Treasury.Bond.10Y    -0.000081 -0.000043     -0.000054           0.000244\n",
      "weight:  [0.04533241 0.13526516 0.03431789 0.78508454]\n",
      "risk:  0.01743054668155312\n",
      "return:  0.00613366056046157\n",
      "\n",
      "\n",
      "minimum variance portfolio 4:\n",
      "covariance lambda: \n",
      "\n",
      "                   MSCI EUROPE  MSCI USA  MSCI PACIFIC  Treasury.Bond.10Y\n",
      "MSCI EUROPE           0.002500  0.001616      0.001813          -0.000097\n",
      "MSCI USA              0.001616  0.001710      0.001247          -0.000039\n",
      "MSCI PACIFIC          0.001813  0.001247      0.003131          -0.000035\n",
      "Treasury.Bond.10Y    -0.000097 -0.000039     -0.000035           0.000395\n",
      "weight:  [0.05030877 0.12979729 0.02500862 0.79488532]\n",
      "risk:  0.01742209834422105\n",
      "return:  0.006143974980755603\n",
      "\n",
      "\n"
     ]
    }
   ],
   "source": [
    "\n",
    "def ewma_mvp (lambdas):\n",
    "    \n",
    "    covariance = indata[RiskyAsset].ewm( alpha = lambdas).mean().cov()\n",
    "\n",
    "    inv_covariance = np.linalg.inv(covariance)\n",
    "    print(\"covariance lambda: \\n\")\n",
    "    print(covariance)\n",
    "    \n",
    "    num = np.dot(u, inv_covariance)\n",
    "    den = np.dot(num, u.T)\n",
    "    weight_mvp = num/den\n",
    "    \n",
    "    print(\"weight: \",weight_mvp)\n",
    "    risk_mvp = get_risk(weight_mvp)\n",
    "    print(\"risk: \",risk_mvp)\n",
    "    return_mvp = get_return(weight_mvp)\n",
    "    print(\"return: \",return_mvp)\n",
    " \n",
    "\n",
    "\n",
    "\n",
    "print(\"covariance: \\n\")\n",
    "print(cov)\n",
    "\n",
    "print(\"Weights: \",minWeight)\n",
    "print(\"Return: \", minReturn)\n",
    "print(\"Risk:\", minRisk)\n",
    "print(\"\\n\")\n",
    "\n",
    "lambda1 = 0.10\n",
    "print(\"minimum variance portfolio 1:\")\n",
    "ewma_mvp1 = ewma_mvp(lambda1)\n",
    "print(\"\\n\")\n",
    "\n",
    "print(\"minimum variance portfolio 2:\")\n",
    "lambda2 = 0.5\n",
    "ewma_mvp1 = ewma_mvp(lambda2)\n",
    "print(\"\\n\")\n",
    "\n",
    "print(\"minimum variance portfolio 3:\")\n",
    "lambda3 = 0.75\n",
    "ewma_mvp1 = ewma_mvp(lambda3)\n",
    "print(\"\\n\")\n",
    "\n",
    "print(\"minimum variance portfolio 4:\")\n",
    "lambda4 = 1\n",
    "ewma_mvp1 = ewma_mvp(lambda4)\n",
    "print(\"\\n\")\n"
   ]
  },
  {
   "cell_type": "markdown",
   "metadata": {},
   "source": [
    "The standard deviations from covariance matrix with different lambdas were mostly smaller than the standard deviation from normal covariance matrix except for the covariance matrix when lambda was equal to 1. Risks were also higher for 3 the different lambdas than risk calculated with normal covariance matrix except for when lambda was equal to 1. But, returns were lower for the 3 different lambdas except for when lambda was equal to 1. "
   ]
  }
 ],
 "metadata": {
  "kernelspec": {
   "display_name": "Python 3 (ipykernel)",
   "language": "python",
   "name": "python3"
  },
  "language_info": {
   "codemirror_mode": {
    "name": "ipython",
    "version": 3
   },
   "file_extension": ".py",
   "mimetype": "text/x-python",
   "name": "python",
   "nbconvert_exporter": "python",
   "pygments_lexer": "ipython3",
   "version": "3.9.13"
  }
 },
 "nbformat": 4,
 "nbformat_minor": 2
}
